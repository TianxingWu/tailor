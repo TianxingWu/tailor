{
 "cells": [
  {
   "cell_type": "code",
   "execution_count": 1,
   "id": "e3cec254",
   "metadata": {},
   "outputs": [],
   "source": [
    "%load_ext autoreload\n",
    "%autoreload 2\n",
    "\n",
    "import logging\n",
    "logging.getLogger(\"allennlp\").setLevel(\"ERROR\")"
   ]
  },
  {
   "cell_type": "markdown",
   "id": "6c6a112d",
   "metadata": {},
   "source": [
    "# Overview\n",
    "\n",
    "This notebook demonstrates how to create perturbations with Tailor.\n",
    "\n",
    "After reading the notebook, you will learn:\n",
    "- How to perturb sentences with Tailor in a single line\n",
    "- How to detect and select possible perturbations available on a sentence\n",
    "- How to use additional controls in Tailor\n",
    "- How to combine Tailor with additional keywords"
   ]
  },
  {
   "cell_type": "code",
   "execution_count": 57,
   "id": "f2cdf00b",
   "metadata": {},
   "outputs": [],
   "source": [
    "# initiate a wrapper.\n",
    "from tailor.tailor_wrapper import Tailor\n",
    "tl = Tailor()"
   ]
  },
  {
   "cell_type": "code",
   "execution_count": 58,
   "id": "e26d08a0",
   "metadata": {},
   "outputs": [
    {
     "name": "stderr",
     "output_type": "stream",
     "text": [
      "2022-03-14 00:44:36,662 - INFO - cached_path - cache of https://storage.googleapis.com/allennlp-public-models/structured-prediction-srl-bert.2020.12.15.tar.gz is up-to-date\n"
     ]
    },
    {
     "data": {
      "text/plain": [
       "[', comforted in the operation room',\n",
       " 'the athlete was comforted by the doctor .',\n",
       " '- the athlete was comforted by the doctor .',\n",
       " 'Having comforted the doctor , the athlete',\n",
       " \"the athlete 's comforted by the doctor\",\n",
       " 'In which case , the doctor comforted the athlete.',\n",
       " 'Having comforted the athlete , the doctor was.',\n",
       " 'Having comforted the doctor , the athlete was.',\n",
       " 'Having comforted the doctor , the athlete was.',\n",
       " '- In the case , the doctor comforted the athlete.']"
      ]
     },
     "execution_count": 58,
     "metadata": {},
     "output_type": "execute_result"
    }
   ],
   "source": [
    "# The base sentence \n",
    "text = \"In the operation room, the doctor comforted the athlete.\"\n",
    "\n",
    "# perturb the sentence with one line:\n",
    "# When running it for the first time, the wrapper will automatically\n",
    "# load related models, e.g. the generator and the perplexity filter.\n",
    "perturbations = tl.perturb(text)\n",
    "perturbations"
   ]
  },
  {
   "cell_type": "markdown",
   "id": "f7990804",
   "metadata": {},
   "source": [
    "## Perturbation with control\n",
    "\n",
    "One advantage of Tailor is that it allows various kinds of controls based on semantic roles. Here, we provide examples for different perturbation strategies, and demonstrate how to invoke these changes in the package.\n",
    "\n",
    "| Original      | Description |\n",
    "| ----------- | ----------- |\n",
    "| change_tense      | In the operation room, the doctor **comforts** the athlete. |\n",
    "| change_voice   | In the operation room, the athlete **was comforted by** the doctor. |\n",
    "| swap_core   | In the operation room, **the athlete** comforted **the doctor**. |\n",
    "| add_detail   | **Under the dim light** in the operation room, the doctor comforted the athlete. |\n",
    "| delete_detail   | **Under the dim light** in the operation room, the doctor comforted the athlete. |"
   ]
  },
  {
   "cell_type": "code",
   "execution_count": 59,
   "id": "fd0d521b",
   "metadata": {},
   "outputs": [
    {
     "name": "stdout",
     "output_type": "stream",
     "text": [
      "DETECTED POSSIBLE CHANGES\n",
      "\n",
      "SENTENCE: In the operation room, the doctor comforted the athlete.\n",
      "\t| [change_content] [LOCATIVE: In the operation room]\n",
      "\t| [add_details] [LOCATIVE: In the operation room]\n",
      "\t| [change_role] [LOCATIVE: In the operation room]\n",
      "\t| [delete_text] [LOCATIVE: In the operation room]\n",
      "\n",
      "\n"
     ]
    }
   ],
   "source": [
    "# To perturb with more controls, can first detect what changes may exist\n",
    "\n",
    "# As can be seen below, once we set the selected span, the system will try to only return perturbations\n",
    "# related to the selection.\n",
    "perturb_strategies = tl.detect_possible_perturbs(\n",
    "    sentence=text,\n",
    "    selected_span = \"In the operation room\",\n",
    "    # print the possible change types\n",
    "    verbalize=True\n",
    ")"
   ]
  },
  {
   "cell_type": "code",
   "execution_count": 107,
   "id": "6d15c810",
   "metadata": {},
   "outputs": [
    {
     "name": "stderr",
     "output_type": "stream",
     "text": [
      "100%|███████████████████████████████████████████████████████████████████████████████████████████████████████████████████████████████████████████| 90856/90856 [27:55<00:00, 54.24it/s]\n"
     ]
    },
    {
     "name": "stdout",
     "output_type": "stream",
     "text": [
      " He met twice with President Chen Shui - bian and had numerous contacts with a wide range of other leading members of Taiwan society , including Tang Fei -LRB- premier -RRB- , Tsai Ing - wen -LRB- Mainland Affairs Council chairwoman -RRB- , the three MAC vice chairmen , Shi Huei - yow -LRB- Straits Exchange Foundation vice chairman -RRB- , Chuang Ming - yao -LRB- National Security Council secretary - general , Chiou I - jen -LRB- SEF deputy secretary - general -RRB- , Lee Yuan - tseh -LRB- chairman of the Presidential Office 's inter-party task force for policy coordination -RRB- , and Nita Ing -LRB- chairwoman of Taiwan High - Speed Rail Corporation -RRB- .\n",
      " He met twice with President Chen Shui - bian and had numerous contacts with a wide range of other leading members of Taiwan society , including Tang Fei -LRB- premier -RRB- , Tsai Ing - wen -LRB- Mainland Affairs Council chairwoman -RRB- , the three MAC vice chairmen , Shi Huei - yow -LRB- Straits Exchange Foundation vice chairman -RRB- , Chuang Ming - yao -LRB- National Security Council secretary - general , Chiou I - jen -LRB- SEF deputy secretary - general -RRB- , Lee Yuan - tseh -LRB- chairman of the Presidential Office 's inter-party task force for policy coordination -RRB- , and Nita Ing -LRB- chairwoman of Taiwan High - Speed Rail Corporation -RRB- .\n",
      " People in ancient Rome often rubbed their bodies with oil in the public baths as a means of relieving stress , and the Shen Nong Ben Cao Jing , the oldest Chinese medical treatise , also describes treatments which are functionally the same as aromatherapy .\n",
      " People in ancient Rome often rubbed their bodies with oil in the public baths as a means of relieving stress , and the Shen Nong Ben Cao Jing , the oldest Chinese medical treatise , also describes treatments which are functionally the same as aromatherapy .\n",
      " People in ancient Rome often rubbed their bodies with oil in the public baths as a means of relieving stress , and the Shen Nong Ben Cao Jing , the oldest Chinese medical treatise , also describes treatments which are functionally the same as aromatherapy .\n",
      " I have my time perfectly allotted , \" says Morna Lee , Taiwan regional business manager for Kellogg 's .\n",
      " In this upcoming election , James Soong is also getting a lot of support from Hakka people , who sympathize with his outsider status and remember his support for Hakka identity . \"\n",
      " In this upcoming election , James Soong is also getting a lot of support from Hakka people , who sympathize with his outsider status and remember his support for Hakka identity . \"\n",
      " In this upcoming election , James Soong is also getting a lot of support from Hakka people , who sympathize with his outsider status and remember his support for Hakka identity . \"\n",
      " In this upcoming election , James Soong is also getting a lot of support from Hakka people , who sympathize with his outsider status and remember his support for Hakka identity . \"\n",
      " In this upcoming election , James Soong is also getting a lot of support from Hakka people , who sympathize with his outsider status and remember his support for Hakka identity . \"\n",
      " He met twice with President Chen Shui - bian and had numerous contacts with a wide range of other leading members of Taiwan society , including Tang Fei -LRB- premier -RRB- , Tsai Ing - wen -LRB- Mainland Affairs Council chairwoman -RRB- , the three MAC vice chairmen , Shi Huei - yow -LRB- Straits Exchange Foundation vice chairman -RRB- , Chuang Ming - yao -LRB- National Security Council secretary - general , Chiou I - jen -LRB- SEF deputy secretary - general -RRB- , Lee Yuan - tseh -LRB- chairman of the Presidential Office 's inter-party task force for policy coordination -RRB- , and Nita Ing -LRB- chairwoman of Taiwan High - Speed Rail Corporation -RRB- .\n",
      " He met twice with President Chen Shui - bian and had numerous contacts with a wide range of other leading members of Taiwan society , including Tang Fei -LRB- premier -RRB- , Tsai Ing - wen -LRB- Mainland Affairs Council chairwoman -RRB- , the three MAC vice chairmen , Shi Huei - yow -LRB- Straits Exchange Foundation vice chairman -RRB- , Chuang Ming - yao -LRB- National Security Council secretary - general , Chiou I - jen -LRB- SEF deputy secretary - general -RRB- , Lee Yuan - tseh -LRB- chairman of the Presidential Office 's inter - party task force for policy coordination -RRB- , and Nita Ing -LRB- chairwoman of Taiwan High - Speed Rail Corporation -RRB- .\n",
      " He met twice with President Chen Shui - bian and had numerous contacts with a wide range of other leading members of Taiwan society , including Tang Fei -LRB- premier -RRB- , Tsai Ing - wen -LRB- Mainland Affairs Council chairwoman -RRB- , the three MAC vice chairmen , Shi Huei - yow -LRB- Straits Exchange Foundation vice chairman -RRB- , Chuang Ming - yao -LRB- National Security Council secretary - general , Chiou I - jen -LRB- SEF deputy secretary - general -RRB- , Lee Yuan - tseh -LRB- chairman of the Presidential Office 's inter - party task force for policy coordination -RRB- , and Nita Ing -LRB- chairwoman of Taiwan High - Speed Rail Corporation -RRB- .\n",
      " He met twice with President Chen Shui - bian and had numerous contacts with a wide range of other leading members of Taiwan society , including Tang Fei -LRB- premier -RRB- , Tsai Ing - wen -LRB- Mainland Affairs Council chairwoman -RRB- , the three MAC vice chairmen , Shi Huei - yow -LRB- Straits Exchange Foundation vice chairman -RRB- , Chuang Ming - yao -LRB- National Security Council secretary - general , Chiou I - jen -LRB- SEF deputy secretary - general -RRB- , Lee Yuan - tseh -LRB- chairman of the Presidential Office 's inter-party task force for policy coordination -RRB- , and Nita Ing -LRB- chairwoman of Taiwan High - Speed Rail Corporation -RRB- .\n",
      " He met twice with President Chen Shui - bian and had numerous contacts with a wide range of other leading members of Taiwan society , including Tang Fei -LRB- premier -RRB- , Tsai Ing - wen -LRB- Mainland Affairs Council chairwoman -RRB- , the three MAC vice chairmen , Shi Huei - yow -LRB- Straits Exchange Foundation vice chairman -RRB- , Chuang Ming - yao -LRB- National Security Council secretary - general , Chiou I - jen -LRB- SEF deputy secretary - general -RRB- , Lee Yuan - tseh -LRB- chairman of the Presidential Office 's inter - party task force for policy coordination -RRB- , and Nita Ing -LRB- chairwoman of Taiwan High - Speed Rail Corporation -RRB- .\n",
      " When you were campaigning , you called the opposition , the PRI `` blood suckers , '' `` black adders , '' `` leaches . ''\n",
      " He met twice with President Chen Shui - bian and had numerous contacts with a wide range of other leading members of Taiwan society , including Tang Fei -LRB- premier -RRB- , Tsai Ing - wen -LRB- Mainland Affairs Council chairwoman -RRB- , the three MAC vice chairmen , Shi Huei - yow -LRB- Straits Exchange Foundation vice chairman -RRB- , Chuang Ming - yao -LRB- National Security Council secretary - general , Chiou I - jen -LRB- SEF deputy secretary - general -RRB- , Lee Yuan - tseh -LRB- chairman of the Presidential Office 's inter-party task force for policy coordination -RRB- , and Nita Ing -LRB- chairwoman of Taiwan High - Speed Rail Corporation -RRB- .\n",
      " He met twice with President Chen Shui - bian and had numerous contacts with a wide range of other leading members of Taiwan society , including Tang Fei -LRB- premier -RRB- , Tsai Ing - wen -LRB- Mainland Affairs Council chairwoman -RRB- , the three MAC vice chairmen , Shi Huei - yow -LRB- Straits Exchange Foundation vice chairman -RRB- , Chuang Ming - yao -LRB- National Security Council secretary - general , Chiou I - jen -LRB- SEF deputy secretary - general -RRB- , Lee Yuan - tseh -LRB- chairman of the Presidential Office 's inter - party task force for policy coordination -RRB- , and Nita Ing -LRB- chairwoman of Taiwan High - Speed Rail Corporation -RRB- .\n",
      " He met twice with President Chen Shui - bian and had numerous contacts with a wide range of other leading members of Taiwan society , including Tang Fei -LRB- premier -RRB- , Tsai Ing - wen -LRB- Mainland Affairs Council chairwoman -RRB- , the three MAC vice chairmen , Shi Huei - yow -LRB- Straits Exchange Foundation vice chairman -RRB- , Chuang Ming - yao -LRB- National Security Council secretary - general , Chiou I - jen -LRB- SEF deputy secretary - general -RRB- , Lee Yuan - tseh -LRB- chairman of the Presidential Office 's inter - party task force for policy coordination -RRB- , and Nita Ing -LRB- chairwoman of Taiwan High - Speed Rail Corporation -RRB- .\n",
      " He met twice with President Chen Shui - bian and had numerous contacts with a wide range of other leading members of Taiwan society , including Tang Fei -LRB- premier -RRB- , Tsai Ing - wen -LRB- Mainland Affairs Council chairwoman -RRB- , the three MAC vice chairmen , Shi Huei - yow -LRB- Straits Exchange Foundation vice chairman -RRB- , Chuang Ming - yao -LRB- National Security Council secretary - general , Chiou I - jen -LRB- SEF deputy secretary - general -RRB- , Lee Yuan - tseh -LRB- chairman of the Presidential Office 's inter-party task force for policy coordination -RRB- , and Nita Ing -LRB- chairwoman of Taiwan High - Speed Rail Corporation -RRB- .\n",
      " He met twice with President Chen Shui - bian and had numerous contacts with a wide range of other leading members of Taiwan society , including Tang Fei -LRB- premier -RRB- , Tsai Ing - wen -LRB- Mainland Affairs Council chairwoman -RRB- , the three MAC vice chairmen , Shi Huei - yow -LRB- Straits Exchange Foundation vice chairman -RRB- , Chuang Ming - yao -LRB- National Security Council secretary - general , Chiou I - jen -LRB- SEF deputy secretary - general -RRB- , Lee Yuan - tseh -LRB- chairman of the Presidential Office 's inter - party task force for policy coordination -RRB- , and Nita Ing -LRB- chairwoman of Taiwan High - Speed Rail Corporation -RRB- .\n"
     ]
    },
    {
     "name": "stdout",
     "output_type": "stream",
     "text": [
      " If you ask the shopkeepers in the main streets or back alleys , they will tell you that the favorite figure of the moment is the Maneki Neko , or Japanese \" beckoning cat , \" whose Chinese name is literally \" wealth - attracting cat \" -LRB- -LRB - c - RRB-?Ìö o ? .\n",
      " If you ask the shopkeepers in the main streets or back alleys , they will tell you that the favorite figure of the moment is the Maneki Neko , or Japanese \" beckoning cat , \" whose Chinese name is literally \" wealth - attracting cat \" -LRB- -LRB - c - RRB-?Ìö o ? .\n",
      " If you ask the shopkeepers in the main streets or back alleys , they will tell you that the favorite figure of the moment is the Maneki Neko , or Japanese \" beckoning cat , \" whose Chinese name is literally wealth - attracting cat \" -LRB- -LRB - c - RRB-?Ìö o ? .\n",
      " For instance , because the first character in the Chinese compound for \" coffin \" -LRB- guan : ÛDÌ ’ -RRB- is a homonym for a character that means \" high official \" -LRB- -LRB - c - RRB - x -RRB- , and the second character -LRB- cai : s ? -RRB- is a homonym for a character that means \" wealth \" or \" money \" -LRB- Ìö , coffins became popular symbols of good fortune a few years back .\n",
      " The foreigners present were amazed in particular by the mass dragon dance that members of the Association performed .\n",
      " The foreigners present were amazed in particular by the mass dragon dance that members of the Association performed .\n",
      " The foreigners present were amazed in particular by the mass dragon dance that members of the Association performed .\n"
     ]
    }
   ],
   "source": [
    "from tailor.common.utils.detect_perturbations import get_common_keywords_by_tag\n",
    "keywords = get_common_keywords_by_tag(\n",
    "    data_path=\"/home/wtshuang/sourcetree/label-contrast-generation/label_contrast/srl/data/orig/train.json\",\n",
    "    nlp=tl.spacy_model)"
   ]
  },
  {
   "cell_type": "code",
   "execution_count": 56,
   "id": "2bf01a04",
   "metadata": {},
   "outputs": [],
   "source": [
    "import json\n",
    "with open(\"common_keywords_by_tag.json\", \"w\") as f:\n",
    "    json.dump(keywords, f)"
   ]
  },
  {
   "cell_type": "code",
   "execution_count": 71,
   "id": "279c7137",
   "metadata": {},
   "outputs": [
    {
     "data": {
      "text/plain": [
       "[\"In case of an injury , the doctor 's comforted the athlete.\",\n",
       " \"In case of a fatal accident , the doctor 's comforted the athlete.\",\n",
       " \"In case of a bruised hand , the doctor 's comforted the athlete.\"]"
      ]
     },
     "execution_count": 71,
     "metadata": {},
     "output_type": "execute_result"
    }
   ],
   "source": [
    "# The same variable `selected_span` exists in `tl.perturb`.\n",
    "perturbations = tl.perturb(\n",
    "    sentence=text,\n",
    "    selected_span = \"In the operation room\",\n",
    "    # can filter perturbations by their change type, as printed above.\n",
    "    allowed_perturbs=[\"change_content\"],\n",
    "    # can reuse the detected strategies\n",
    "    candidate_inputs = perturb_strategies,\n",
    "    # filter out degeneration with gpt-2 perplexity score. If None, then this step is skiped.\n",
    "    perplex_thred=50,\n",
    "    # max number of perturbations to return.\n",
    "    num_perturbs=10\n",
    ")\n",
    "perturbations"
   ]
  },
  {
   "cell_type": "markdown",
   "id": "c8b63b4e",
   "metadata": {},
   "source": [
    "## Perturbation with context\n",
    "\n",
    "With Tailor taking semantic controls, it can also be combined with external keyword. There are three variables. For now, the library only allows setting one keyword as non-None. If you set more than one, the system won't be able to recognize it.\n",
    "\n",
    "- `to_content`: Keywords that should occur in the generation.\n",
    "- `to_semantic_role`: Randomly select some phrase in the current sub-span as keyword, but change the generated semantic role. Accepted list includes `\n",
    "            ['PURPOSE', 'AGENT', 'DISCOURSE', 'MODAL', 'PREDICATE', 'ATTRIBUTE', \n",
    "            'PATIENT', 'GOAL', 'END', 'ARG2', 'DIRECTIONAL', 'CAUSE', 'EXTENT', \n",
    "            'COMITATIVE', 'TEMPORAL', 'MANNER', 'NEGATION', 'ADVERBIAL', \n",
    "            'LOCATIVE', 'VERB']`\n",
    "- `to_tense`: (specific to verbs) change the tense (future, present, past)."
   ]
  },
  {
   "cell_type": "code",
   "execution_count": 102,
   "id": "4947797d",
   "metadata": {},
   "outputs": [
    {
     "name": "stdout",
     "output_type": "stream",
     "text": [
      "\n",
      "SENTENCE: In the operation room, the doctor comforted the athlete.\n",
      "\t| [change_content] [LOCATIVE: In the operation room]\n",
      "\t| [VERB+active+past: comfort | LOCATIVE+partial: bridge] <extra_id_0> , the doctor <extra_id_1> the athlete.\n",
      "\n",
      "\n"
     ]
    },
    {
     "data": {
      "text/plain": [
       "[\"Under the bridge , the doctor 's comforted the athlete.\",\n",
       " \"Under a bridge , the doctor 's comforted the athlete.\"]"
      ]
     },
     "execution_count": 102,
     "metadata": {},
     "output_type": "execute_result"
    }
   ],
   "source": [
    "perturbations = tl.perturb_with_context(\n",
    "    \"In the operation room, the doctor comforted the athlete.\", \n",
    "    \"In the operation room\",\n",
    "    to_content=\"bridge\",\n",
    "    verbalize=True\n",
    ")\n",
    "perturbations"
   ]
  },
  {
   "cell_type": "code",
   "execution_count": 106,
   "id": "f693bea2",
   "metadata": {},
   "outputs": [
    {
     "name": "stdout",
     "output_type": "stream",
     "text": [
      "\n",
      "SENTENCE: In the operation room, the doctor comforted the athlete.\n",
      "\t| [change_role] [LOCATIVE: In the operation room]\n",
      "\t| [VERB+active+past: comfort | TEMPORAL+partial: the operation room] <extra_id_0> , the doctor <extra_id_1> the athlete.\n",
      "\n",
      "\n"
     ]
    },
    {
     "data": {
      "text/plain": [
       "['When the doctor came into the operation room , the physician comforted the athlete.',\n",
       " 'When the doctor arrived in the operation room , the physician comforted the athlete.',\n",
       " \"While the doctor was in the operation room , the physician 's comforted the athlete.\"]"
      ]
     },
     "execution_count": 106,
     "metadata": {},
     "output_type": "execute_result"
    }
   ],
   "source": [
    "perturbations = tl.perturb_with_context(\n",
    "    \"In the operation room, the doctor comforted the athlete.\", \n",
    "    \"In the operation room\",\n",
    "    to_semantic_role=\"TEMPORAL\",\n",
    "    verbalize=True\n",
    ")\n",
    "perturbations"
   ]
  },
  {
   "cell_type": "code",
   "execution_count": 97,
   "id": "43e3204f",
   "metadata": {},
   "outputs": [
    {
     "name": "stdout",
     "output_type": "stream",
     "text": [
      "\n",
      "SENTENCE: In the operation room, the doctor comforted the athlete.\n",
      "\t| [change_tense] [VERB: comforted]\n",
      "\t| [VERB+active+future: comfort | MODAL: *] In the operation room, the doctor <extra_id_0> the athlete.\n",
      "\n",
      "\n"
     ]
    },
    {
     "data": {
      "text/plain": [
       "['In the operation room , the doctor will comfort the athlete.',\n",
       " \"In the operation room , the doctor 's will comfort the athlete.\"]"
      ]
     },
     "execution_count": 97,
     "metadata": {},
     "output_type": "execute_result"
    }
   ],
   "source": [
    "perturbations = tl.perturb_with_context(\n",
    "    \"In the operation room, the doctor comforted the athlete.\", \n",
    "    \"comforted\",\n",
    "    to_tense=\"future\",\n",
    "    verbalize=True\n",
    ")\n",
    "perturbations"
   ]
  }
 ],
 "metadata": {
  "kernelspec": {
   "display_name": "Python 3 (ipykernel)",
   "language": "python",
   "name": "python3"
  },
  "language_info": {
   "codemirror_mode": {
    "name": "ipython",
    "version": 3
   },
   "file_extension": ".py",
   "mimetype": "text/x-python",
   "name": "python",
   "nbconvert_exporter": "python",
   "pygments_lexer": "ipython3",
   "version": "3.7.12"
  }
 },
 "nbformat": 4,
 "nbformat_minor": 5
}
