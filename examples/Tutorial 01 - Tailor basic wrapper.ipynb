{
 "cells": [
  {
   "cell_type": "code",
   "execution_count": 1,
   "id": "e3cec254",
   "metadata": {},
   "outputs": [],
   "source": [
    "%load_ext autoreload\n",
    "%autoreload 2\n",
    "\n",
    "import logging\n",
    "logging.getLogger(\"allennlp\").setLevel(\"ERROR\")"
   ]
  },
  {
   "cell_type": "markdown",
   "id": "6c6a112d",
   "metadata": {},
   "source": [
    "# Overview\n",
    "\n",
    "This notebook demonstrates how to create perturbations with Tailor.\n",
    "\n",
    "After reading the notebook, you will learn:\n",
    "- How to perturb sentences with Tailor in a single line\n",
    "- How to detect and select possible perturbations available on a sentence\n",
    "- How to use additional controls in Tailor\n",
    "- How to combine Tailor with additional keywords"
   ]
  },
  {
   "cell_type": "code",
   "execution_count": 57,
   "id": "f2cdf00b",
   "metadata": {},
   "outputs": [],
   "source": [
    "# initiate a wrapper.\n",
    "from tailor import Tailor\n",
    "tl = Tailor()"
   ]
  },
  {
   "cell_type": "code",
   "execution_count": 58,
   "id": "f4578b2f",
   "metadata": {},
   "outputs": [
    {
     "name": "stderr",
     "output_type": "stream",
     "text": [
      "2022-03-14 00:44:36,662 - INFO - cached_path - cache of https://storage.googleapis.com/allennlp-public-models/structured-prediction-srl-bert.2020.12.15.tar.gz is up-to-date\n"
     ]
    },
    {
     "data": {
      "text/plain": [
       "[', comforted in the operation room',\n",
       " 'the athlete was comforted by the doctor .',\n",
       " '- the athlete was comforted by the doctor .',\n",
       " 'Having comforted the doctor , the athlete',\n",
       " \"the athlete 's comforted by the doctor\",\n",
       " 'In which case , the doctor comforted the athlete.',\n",
       " 'Having comforted the athlete , the doctor was.',\n",
       " 'Having comforted the doctor , the athlete was.',\n",
       " 'Having comforted the doctor , the athlete was.',\n",
       " '- In the case , the doctor comforted the athlete.']"
      ]
     },
     "execution_count": 58,
     "metadata": {},
     "output_type": "execute_result"
    }
   ],
   "source": [
    "# The base sentence \n",
    "text = \"In the operation room, the doctor comforted the athlete.\"\n",
    "\n",
    "# perturb the sentence with one line:\n",
    "# When running it for the first time, the wrapper will automatically\n",
    "# load related models, e.g. the generator and the perplexity filter.\n",
    "perturbations = tl.perturb(text)\n",
    "perturbations"
   ]
  },
  {
   "cell_type": "markdown",
   "id": "36f4f4b8",
   "metadata": {},
   "source": [
    "## Perturbation with control\n",
    "\n",
    "One advantage of Tailor is that it allows various kinds of controls based on semantic roles. Here, we provide examples for different perturbation strategies, and demonstrate how to invoke these changes in the package.\n",
    "\n",
    "| Original      | Description |\n",
    "| ----------- | ----------- |\n",
    "| change_tense      | In the operation room, the doctor **comforts** the athlete. |\n",
    "| change_voice   | In the operation room, the athlete **was comforted by** the doctor. |\n",
    "| swap_core   | In the operation room, **the athlete** comforted **the doctor**. |\n",
    "| add_detail   | **Under the dim light** in the operation room, the doctor comforted the athlete. |\n",
    "| delete_detail   | **In the room**, the doctor comforted the athlete. |"
   ]
  },
  {
   "cell_type": "code",
   "execution_count": 59,
   "id": "627c8277",
   "metadata": {},
   "outputs": [
    {
     "name": "stdout",
     "output_type": "stream",
     "text": [
      "DETECTED POSSIBLE CHANGES\n",
      "\n",
      "SENTENCE: In the operation room, the doctor comforted the athlete.\n",
      "\t| [change_content] [LOCATIVE: In the operation room]\n",
      "\t| [add_details] [LOCATIVE: In the operation room]\n",
      "\t| [change_role] [LOCATIVE: In the operation room]\n",
      "\t| [delete_text] [LOCATIVE: In the operation room]\n",
      "\n",
      "\n"
     ]
    }
   ],
   "source": [
    "# To perturb with more controls, can first detect what changes may exist\n",
    "\n",
    "# As can be seen below, once we set the selected span, the system will try to only return perturbations\n",
    "# related to the selection.\n",
    "perturb_strategies = tl.detect_possible_perturbs(\n",
    "    sentence=text,\n",
    "    selected_span = \"In the operation room\",\n",
    "    # print the possible change types\n",
    "    verbalize=True\n",
    ")"
   ]
  },
  {
   "cell_type": "code",
   "execution_count": 71,
   "id": "e21db2c8",
   "metadata": {},
   "outputs": [
    {
     "data": {
      "text/plain": [
       "[\"In case of an injury , the doctor 's comforted the athlete.\",\n",
       " \"In case of a fatal accident , the doctor 's comforted the athlete.\",\n",
       " \"In case of a bruised hand , the doctor 's comforted the athlete.\"]"
      ]
     },
     "execution_count": 71,
     "metadata": {},
     "output_type": "execute_result"
    }
   ],
   "source": [
    "# The same variable `selected_span` exists in `tl.perturb`.\n",
    "perturbations = tl.perturb(\n",
    "    sentence=text,\n",
    "    selected_span = \"In the operation room\",\n",
    "    # can filter perturbations by their change type, as printed above.\n",
    "    allowed_perturbs=[\"change_content\"],\n",
    "    # can reuse the detected strategies\n",
    "    candidate_inputs = perturb_strategies,\n",
    "    # filter out degeneration with gpt-2 perplexity score. If None, then this step is skiped.\n",
    "    perplex_thred=50,\n",
    "    # max number of perturbations to return.\n",
    "    num_perturbs=10\n",
    ")\n",
    "perturbations"
   ]
  },
  {
   "cell_type": "markdown",
   "id": "262011ac",
   "metadata": {},
   "source": [
    "## Perturbation with context\n",
    "\n",
    "With Tailor taking semantic controls, it can also be combined with external keyword. There are three variables. For now, the library only allows setting one keyword as non-None. If you set more than one, the system won't be able to recognize it.\n",
    "\n",
    "- `to_content`: Keywords that should occur in the generation.\n",
    "- `to_semantic_role`: Randomly select some phrase in the current sub-span as keyword, but change the generated semantic role. Accepted list includes `\n",
    "            ['PURPOSE', 'AGENT', 'DISCOURSE', 'MODAL', 'PREDICATE', 'ATTRIBUTE', \n",
    "            'PATIENT', 'GOAL', 'END', 'ARG2', 'DIRECTIONAL', 'CAUSE', 'EXTENT', \n",
    "            'COMITATIVE', 'TEMPORAL', 'MANNER', 'NEGATION', 'ADVERBIAL', \n",
    "            'LOCATIVE', 'VERB']`\n",
    "- `to_tense`: (specific to verbs) change the tense (future, present, past)."
   ]
  },
  {
   "cell_type": "code",
   "execution_count": 102,
   "id": "4947797d",
   "metadata": {},
   "outputs": [
    {
     "name": "stdout",
     "output_type": "stream",
     "text": [
      "\n",
      "SENTENCE: In the operation room, the doctor comforted the athlete.\n",
      "\t| [change_content] [LOCATIVE: In the operation room]\n",
      "\t| [VERB+active+past: comfort | LOCATIVE+partial: bridge] <extra_id_0> , the doctor <extra_id_1> the athlete.\n",
      "\n",
      "\n"
     ]
    },
    {
     "data": {
      "text/plain": [
       "[\"Under the bridge , the doctor 's comforted the athlete.\",\n",
       " \"Under a bridge , the doctor 's comforted the athlete.\"]"
      ]
     },
     "execution_count": 102,
     "metadata": {},
     "output_type": "execute_result"
    }
   ],
   "source": [
    "perturbations = tl.perturb_with_context(\n",
    "    \"In the operation room, the doctor comforted the athlete.\", \n",
    "    \"In the operation room\",\n",
    "    to_content=\"bridge\",\n",
    "    verbalize=True\n",
    ")\n",
    "perturbations"
   ]
  },
  {
   "cell_type": "code",
   "execution_count": 106,
   "id": "f693bea2",
   "metadata": {},
   "outputs": [
    {
     "name": "stdout",
     "output_type": "stream",
     "text": [
      "\n",
      "SENTENCE: In the operation room, the doctor comforted the athlete.\n",
      "\t| [change_role] [LOCATIVE: In the operation room]\n",
      "\t| [VERB+active+past: comfort | TEMPORAL+partial: the operation room] <extra_id_0> , the doctor <extra_id_1> the athlete.\n",
      "\n",
      "\n"
     ]
    },
    {
     "data": {
      "text/plain": [
       "['When the doctor came into the operation room , the physician comforted the athlete.',\n",
       " 'When the doctor arrived in the operation room , the physician comforted the athlete.',\n",
       " \"While the doctor was in the operation room , the physician 's comforted the athlete.\"]"
      ]
     },
     "execution_count": 106,
     "metadata": {},
     "output_type": "execute_result"
    }
   ],
   "source": [
    "perturbations = tl.perturb_with_context(\n",
    "    \"In the operation room, the doctor comforted the athlete.\", \n",
    "    \"In the operation room\",\n",
    "    to_semantic_role=\"TEMPORAL\",\n",
    "    verbalize=True\n",
    ")\n",
    "perturbations"
   ]
  },
  {
   "cell_type": "code",
   "execution_count": 97,
   "id": "a372d60e",
   "metadata": {},
   "outputs": [
    {
     "name": "stdout",
     "output_type": "stream",
     "text": [
      "\n",
      "SENTENCE: In the operation room, the doctor comforted the athlete.\n",
      "\t| [change_tense] [VERB: comforted]\n",
      "\t| [VERB+active+future: comfort | MODAL: *] In the operation room, the doctor <extra_id_0> the athlete.\n",
      "\n",
      "\n"
     ]
    },
    {
     "data": {
      "text/plain": [
       "['In the operation room , the doctor will comfort the athlete.',\n",
       " \"In the operation room , the doctor 's will comfort the athlete.\"]"
      ]
     },
     "execution_count": 97,
     "metadata": {},
     "output_type": "execute_result"
    }
   ],
   "source": [
    "perturbations = tl.perturb_with_context(\n",
    "    \"In the operation room, the doctor comforted the athlete.\", \n",
    "    \"comforted\",\n",
    "    to_tense=\"future\",\n",
    "    verbalize=True\n",
    ")\n",
    "perturbations"
   ]
  }
 ],
 "metadata": {
  "kernelspec": {
   "display_name": "Python 3 (ipykernel)",
   "language": "python",
   "name": "python3"
  },
  "language_info": {
   "codemirror_mode": {
    "name": "ipython",
    "version": 3
   },
   "file_extension": ".py",
   "mimetype": "text/x-python",
   "name": "python",
   "nbconvert_exporter": "python",
   "pygments_lexer": "ipython3",
   "version": "3.7.12"
  }
 },
 "nbformat": 4,
 "nbformat_minor": 5
}
